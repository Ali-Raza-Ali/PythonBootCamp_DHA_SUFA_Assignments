{
 "cells": [
  {
   "cell_type": "markdown",
   "metadata": {},
   "source": [
    "# ***Facebook Bot using Selenium***"
   ]
  },
  {
   "cell_type": "code",
   "execution_count": 1,
   "metadata": {},
   "outputs": [],
   "source": [
    "from selenium import webdriver\n",
    "from getpass import getpass\n",
    "from selenium.common.exceptions import NoSuchElementException, TimeoutException\n",
    "from selenium.webdriver.support.ui import WebDriverWait\n",
    "from selenium.webdriver.support import expected_conditions as EC\n",
    "from selenium.webdriver.common.by import By\n",
    "from selenium.webdriver.chrome.options import Options\n",
    "from selenium.webdriver.common.keys import Keys\n",
    "import time"
   ]
  },
  {
   "cell_type": "code",
   "execution_count": 2,
   "metadata": {},
   "outputs": [],
   "source": [
    "browser = webdriver.Safari() #Global Instance of Safari"
   ]
  },
  {
   "cell_type": "code",
   "execution_count": 3,
   "metadata": {},
   "outputs": [],
   "source": [
    "browser.get(\"https://www.facebook.com\")"
   ]
  },
  {
   "cell_type": "code",
   "execution_count": 4,
   "metadata": {},
   "outputs": [],
   "source": [
    "def fb_login(url):\n",
    "    browser.get(url)\n",
    "    email_field = browser.find_element_by_name(\"email\")\n",
    "    password_field = browser.find_element_by_name(\"pass\")\n",
    "    email = str(input(\"Enter your email address or mobile number: \"))\n",
    "    password = getpass(\"Enter password: \")\n",
    "    email_field.send_keys(email)\n",
    "    password_field.send_keys(password)\n",
    "    loginBtn = browser.find_element_by_name(\"login\")\n",
    "    loginBtn.click()"
   ]
  },
  {
   "cell_type": "code",
   "execution_count": 5,
   "metadata": {},
   "outputs": [
    {
     "name": "stdout",
     "output_type": "stream",
     "text": [
      "Enter your email address or mobile number: alirazaaliqadri@gmail.com\n",
      "Enter password: ········\n"
     ]
    }
   ],
   "source": [
    "fb_login('https://www.facebook.com')"
   ]
  },
  {
   "cell_type": "code",
   "execution_count": 6,
   "metadata": {},
   "outputs": [],
   "source": [
    "time.sleep(5)"
   ]
  },
  {
   "cell_type": "code",
   "execution_count": 7,
   "metadata": {},
   "outputs": [],
   "source": [
    "given_postUrl = 'https://www.facebook.com/DeveloperStudentClubDHASuffaUniversity/posts/2838706263116774'\n",
    "browser.get(given_postUrl)\n",
    "time.sleep(5)"
   ]
  },
  {
   "cell_type": "code",
   "execution_count": 8,
   "metadata": {},
   "outputs": [],
   "source": [
    "likeBtn = browser.find_element_by_css_selector('div[aria-label=\"Like\"] div')\n",
    "likeBtn.click()"
   ]
  },
  {
   "cell_type": "code",
   "execution_count": 9,
   "metadata": {},
   "outputs": [],
   "source": [
    "msg = ['Hi Sir Tarun','Hi Sir Bahawal','You guys did a wonderful job.','It was really a good run','Every Workshop is full of inspiring knowledge']\n",
    "count = 0\n",
    "for i in range(50):\n",
    "    commentBox = browser.find_element_by_css_selector('div[aria-label=\"Write a comment\"] div')\n",
    "    commentBox.click()\n",
    "    commentBox.send_keys(msg[count])\n",
    "    commentBox.send_keys(Keys.ENTER)\n",
    "    count = count + 1\n",
    "    if count == 4:\n",
    "        count = 0"
   ]
  },
  {
   "cell_type": "code",
   "execution_count": 10,
   "metadata": {},
   "outputs": [],
   "source": [
    "time.sleep(3)"
   ]
  },
  {
   "cell_type": "code",
   "execution_count": 11,
   "metadata": {},
   "outputs": [],
   "source": [
    "shareBtn = browser.find_element_by_css_selector('div[aria-label=\"Send this to friends or post it on your Timeline.\"] div')\n",
    "shareBtn.click()"
   ]
  },
  {
   "cell_type": "code",
   "execution_count": 12,
   "metadata": {},
   "outputs": [],
   "source": [
    "time.sleep(3)"
   ]
  },
  {
   "cell_type": "code",
   "execution_count": 13,
   "metadata": {},
   "outputs": [],
   "source": [
    "action_toTake = browser.find_element_by_xpath('//*[@id=\"mount_0_0\"]/div/div[1]/div[1]/div[3]/div/div/div[2]/div/div/div[1]/div[1]/div/div/div[1]/div/div/div[1]/div/div[2]/div')\n",
    "action_toTake.click()"
   ]
  },
  {
   "cell_type": "code",
   "execution_count": 14,
   "metadata": {},
   "outputs": [],
   "source": [
    "time.sleep(3)"
   ]
  },
  {
   "cell_type": "code",
   "execution_count": 15,
   "metadata": {},
   "outputs": [],
   "source": [
    "msgBox = browser.find_element_by_xpath('//*[@id=\"mount_0_0\"]/div/div[1]/div[1]/div[4]/div/div/div[1]/div/div[2]/div/div/div/form/div/div[1]/div/div/div[2]/div[1]/div[1]/div/div[1]/div/div/div/div/div[2]/div/div/div/div')\n",
    "msgBox.click()"
   ]
  },
  {
   "cell_type": "code",
   "execution_count": 16,
   "metadata": {},
   "outputs": [],
   "source": [
    "msg2 = \"DSC-DHA-SUFA you guys did a really wonderful by arranging this awesome and inspiring bootcamp. I would like to thanks all the DHA SUFA DSC Team and specailly the instructors Sir Tarun & Sir Bahawal. \\nThis post was shared using a bot that I learnt to create from Python Bootcamp 2020 held by DSC@DSU.\\n#DSCDSU #DeveloperStudentClubs #DSCPakistan #Python #Bot\""
   ]
  },
  {
   "cell_type": "code",
   "execution_count": 17,
   "metadata": {},
   "outputs": [],
   "source": [
    "msgBox.send_keys(msg2)"
   ]
  },
  {
   "cell_type": "code",
   "execution_count": 18,
   "metadata": {},
   "outputs": [],
   "source": [
    "postBtn = browser.find_element_by_css_selector('div[aria-label=\"Post\"] div')\n",
    "postBtn.click()"
   ]
  },
  {
   "cell_type": "markdown",
   "metadata": {},
   "source": [
    "# ***The End....***"
   ]
  }
 ],
 "metadata": {
  "kernelspec": {
   "display_name": "Python 3",
   "language": "python",
   "name": "python3"
  },
  "language_info": {
   "codemirror_mode": {
    "name": "ipython",
    "version": 3
   },
   "file_extension": ".py",
   "mimetype": "text/x-python",
   "name": "python",
   "nbconvert_exporter": "python",
   "pygments_lexer": "ipython3",
   "version": "3.8.5"
  }
 },
 "nbformat": 4,
 "nbformat_minor": 4
}
