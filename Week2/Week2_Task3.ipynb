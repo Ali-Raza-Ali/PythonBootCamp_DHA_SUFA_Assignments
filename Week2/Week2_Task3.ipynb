{
 "cells": [
  {
   "cell_type": "code",
   "execution_count": 2,
   "metadata": {},
   "outputs": [],
   "source": [
    "from bs4 import BeautifulSoup\n",
    "import requests\n",
    "import json"
   ]
  },
  {
   "cell_type": "code",
   "execution_count": 3,
   "metadata": {},
   "outputs": [],
   "source": [
    "res = requests.get('https://directory.ntschools.net/#/schools')"
   ]
  },
  {
   "cell_type": "code",
   "execution_count": 4,
   "metadata": {},
   "outputs": [
    {
     "data": {
      "text/plain": [
       "200"
      ]
     },
     "execution_count": 4,
     "metadata": {},
     "output_type": "execute_result"
    }
   ],
   "source": [
    "res.status_code"
   ]
  },
  {
   "cell_type": "code",
   "execution_count": 5,
   "metadata": {},
   "outputs": [
    {
     "data": {
      "text/plain": [
       "b'<!doctype html>\\r\\n<html lang=\"en\">\\r\\n  <head>\\r\\n    <!-- Required meta tags -->\\r\\n    <meta charset=\"utf-8\">\\r\\n    <meta name=\"viewport\" content=\"width=device-width, initial-scale=1, shrink-to-fit=no\">\\r\\n    <link rel=\"icon\" href=\"/favicon.gif\" type=\"image/x-icon\" />\\r\\n  <link href=\"assets/0.08b7e7c88d4b753951a6.css\" rel=\"stylesheet\"></head>\\r\\n  \\r\\n  <body aurelia-app=\"main\">\\r\\n\\r\\n      \\r\\n\\r\\n  <script type=\"text/javascript\" src=\"assets/runtime.08b7e7c88d4b753951a6.bundle.js\"></script><script type=\"text/javascript\" src=\"assets/npm.aurelia-templating-resources.08b7e7c88d4b753951a6.js\"></script><script type=\"text/javascript\" src=\"assets/npm.au-table.08b7e7c88d4b753951a6.js\"></script><script type=\"text/javascript\" src=\"assets/npm.aurelia-google-maps.08b7e7c88d4b753951a6.js\"></script><script type=\"text/javascript\" src=\"assets/npm.aurelia-templating-router.08b7e7c88d4b753951a6.js\"></script><script type=\"text/javascript\" src=\"assets/npm.aurelia-webpack-plugin.08b7e7c88d4b753951a6.js\"></script><script type=\"text/javascript\" src=\"assets/npm.es6-promise-promise.08b7e7c88d4b753951a6.js\"></script><script type=\"text/javascript\" src=\"assets/npm.webpack.08b7e7c88d4b753951a6.js\"></script><script type=\"text/javascript\" src=\"assets/npm.aurelia-binding.08b7e7c88d4b753951a6.js\"></script><script type=\"text/javascript\" src=\"assets/npm.aurelia-bootstrapper.08b7e7c88d4b753951a6.js\"></script><script type=\"text/javascript\" src=\"assets/npm.aurelia-dependency-injection.08b7e7c88d4b753951a6.js\"></script><script type=\"text/javascript\" src=\"assets/npm.aurelia-event-aggregator.08b7e7c88d4b753951a6.js\"></script><script type=\"text/javascript\" src=\"assets/npm.aurelia-fetch-client.08b7e7c88d4b753951a6.js\"></script><script type=\"text/javascript\" src=\"assets/npm.aurelia-framework.08b7e7c88d4b753951a6.js\"></script><script type=\"text/javascript\" src=\"assets/npm.aurelia-history-browser.08b7e7c88d4b753951a6.js\"></script><script type=\"text/javascript\" src=\"assets/npm.aurelia-history.08b7e7c88d4b753951a6.js\"></script><script type=\"text/javascript\" src=\"assets/npm.aurelia-loader-webpack.08b7e7c88d4b753951a6.js\"></script><script type=\"text/javascript\" src=\"assets/npm.aurelia-loader.08b7e7c88d4b753951a6.js\"></script><script type=\"text/javascript\" src=\"assets/npm.aurelia-logging-console.08b7e7c88d4b753951a6.js\"></script><script type=\"text/javascript\" src=\"assets/npm.aurelia-logging.08b7e7c88d4b753951a6.js\"></script><script type=\"text/javascript\" src=\"assets/npm.aurelia-metadata.08b7e7c88d4b753951a6.js\"></script><script type=\"text/javascript\" src=\"assets/npm.aurelia-pal-browser.08b7e7c88d4b753951a6.js\"></script><script type=\"text/javascript\" src=\"assets/npm.aurelia-pal.08b7e7c88d4b753951a6.js\"></script><script type=\"text/javascript\" src=\"assets/npm.aurelia-path.08b7e7c88d4b753951a6.js\"></script><script type=\"text/javascript\" src=\"assets/npm.aurelia-polyfills.08b7e7c88d4b753951a6.js\"></script><script type=\"text/javascript\" src=\"assets/npm.aurelia-route-recognizer.08b7e7c88d4b753951a6.js\"></script><script type=\"text/javascript\" src=\"assets/npm.aurelia-router.08b7e7c88d4b753951a6.js\"></script><script type=\"text/javascript\" src=\"assets/npm.aurelia-task-queue.08b7e7c88d4b753951a6.js\"></script><script type=\"text/javascript\" src=\"assets/npm.aurelia-templating-binding.08b7e7c88d4b753951a6.js\"></script><script type=\"text/javascript\" src=\"assets/npm.aurelia-templating.08b7e7c88d4b753951a6.js\"></script><script type=\"text/javascript\" src=\"assets/npm.email-validator.08b7e7c88d4b753951a6.js\"></script><script type=\"text/javascript\" src=\"assets/npm.jquery-param.08b7e7c88d4b753951a6.js\"></script><script type=\"text/javascript\" src=\"assets/npm.jquery-resizable-dom.08b7e7c88d4b753951a6.js\"></script><script type=\"text/javascript\" src=\"assets/npm.jquery.08b7e7c88d4b753951a6.js\"></script><script type=\"text/javascript\" src=\"assets/npm.polyfill-array-includes.08b7e7c88d4b753951a6.js\"></script><script type=\"text/javascript\" src=\"assets/npm.process.08b7e7c88d4b753951a6.js\"></script><script type=\"text/javascript\" src=\"assets/npm.whatwg-fetch.08b7e7c88d4b753951a6.js\"></script><script type=\"text/javascript\" src=\"assets/app.08b7e7c88d4b753951a6.js\"></script></body>\\r\\n  <script type=\"text/javascript\">\\r\\n     \\r\\n    if(navigator.userAgent.indexOf(\\'MSIE\\')!==-1){\\r\\n      var para = document.createElement(\"h1\");\\r\\n      var node = document.createTextNode(\"Your browser is not supported please upgrade!\");\\r\\n      para.appendChild(node);\\r\\n      document.body.appendChild(para);\\r\\n    }\\r\\n  </script>\\r\\n\\r\\n</html>\\r\\n'"
      ]
     },
     "execution_count": 5,
     "metadata": {},
     "output_type": "execute_result"
    }
   ],
   "source": [
    "res.content"
   ]
  },
  {
   "cell_type": "code",
   "execution_count": 6,
   "metadata": {},
   "outputs": [],
   "source": [
    "soup = BeautifulSoup(res.content,'html.parser')"
   ]
  },
  {
   "cell_type": "code",
   "execution_count": 7,
   "metadata": {},
   "outputs": [
    {
     "data": {
      "text/plain": [
       "<!DOCTYPE html>\n",
       "\n",
       "<html lang=\"en\">\n",
       "<head>\n",
       "<!-- Required meta tags -->\n",
       "<meta charset=\"utf-8\"/>\n",
       "<meta content=\"width=device-width, initial-scale=1, shrink-to-fit=no\" name=\"viewport\"/>\n",
       "<link href=\"/favicon.gif\" rel=\"icon\" type=\"image/x-icon\"/>\n",
       "<link href=\"assets/0.08b7e7c88d4b753951a6.css\" rel=\"stylesheet\"/></head>\n",
       "<body aurelia-app=\"main\">\n",
       "<script src=\"assets/runtime.08b7e7c88d4b753951a6.bundle.js\" type=\"text/javascript\"></script><script src=\"assets/npm.aurelia-templating-resources.08b7e7c88d4b753951a6.js\" type=\"text/javascript\"></script><script src=\"assets/npm.au-table.08b7e7c88d4b753951a6.js\" type=\"text/javascript\"></script><script src=\"assets/npm.aurelia-google-maps.08b7e7c88d4b753951a6.js\" type=\"text/javascript\"></script><script src=\"assets/npm.aurelia-templating-router.08b7e7c88d4b753951a6.js\" type=\"text/javascript\"></script><script src=\"assets/npm.aurelia-webpack-plugin.08b7e7c88d4b753951a6.js\" type=\"text/javascript\"></script><script src=\"assets/npm.es6-promise-promise.08b7e7c88d4b753951a6.js\" type=\"text/javascript\"></script><script src=\"assets/npm.webpack.08b7e7c88d4b753951a6.js\" type=\"text/javascript\"></script><script src=\"assets/npm.aurelia-binding.08b7e7c88d4b753951a6.js\" type=\"text/javascript\"></script><script src=\"assets/npm.aurelia-bootstrapper.08b7e7c88d4b753951a6.js\" type=\"text/javascript\"></script><script src=\"assets/npm.aurelia-dependency-injection.08b7e7c88d4b753951a6.js\" type=\"text/javascript\"></script><script src=\"assets/npm.aurelia-event-aggregator.08b7e7c88d4b753951a6.js\" type=\"text/javascript\"></script><script src=\"assets/npm.aurelia-fetch-client.08b7e7c88d4b753951a6.js\" type=\"text/javascript\"></script><script src=\"assets/npm.aurelia-framework.08b7e7c88d4b753951a6.js\" type=\"text/javascript\"></script><script src=\"assets/npm.aurelia-history-browser.08b7e7c88d4b753951a6.js\" type=\"text/javascript\"></script><script src=\"assets/npm.aurelia-history.08b7e7c88d4b753951a6.js\" type=\"text/javascript\"></script><script src=\"assets/npm.aurelia-loader-webpack.08b7e7c88d4b753951a6.js\" type=\"text/javascript\"></script><script src=\"assets/npm.aurelia-loader.08b7e7c88d4b753951a6.js\" type=\"text/javascript\"></script><script src=\"assets/npm.aurelia-logging-console.08b7e7c88d4b753951a6.js\" type=\"text/javascript\"></script><script src=\"assets/npm.aurelia-logging.08b7e7c88d4b753951a6.js\" type=\"text/javascript\"></script><script src=\"assets/npm.aurelia-metadata.08b7e7c88d4b753951a6.js\" type=\"text/javascript\"></script><script src=\"assets/npm.aurelia-pal-browser.08b7e7c88d4b753951a6.js\" type=\"text/javascript\"></script><script src=\"assets/npm.aurelia-pal.08b7e7c88d4b753951a6.js\" type=\"text/javascript\"></script><script src=\"assets/npm.aurelia-path.08b7e7c88d4b753951a6.js\" type=\"text/javascript\"></script><script src=\"assets/npm.aurelia-polyfills.08b7e7c88d4b753951a6.js\" type=\"text/javascript\"></script><script src=\"assets/npm.aurelia-route-recognizer.08b7e7c88d4b753951a6.js\" type=\"text/javascript\"></script><script src=\"assets/npm.aurelia-router.08b7e7c88d4b753951a6.js\" type=\"text/javascript\"></script><script src=\"assets/npm.aurelia-task-queue.08b7e7c88d4b753951a6.js\" type=\"text/javascript\"></script><script src=\"assets/npm.aurelia-templating-binding.08b7e7c88d4b753951a6.js\" type=\"text/javascript\"></script><script src=\"assets/npm.aurelia-templating.08b7e7c88d4b753951a6.js\" type=\"text/javascript\"></script><script src=\"assets/npm.email-validator.08b7e7c88d4b753951a6.js\" type=\"text/javascript\"></script><script src=\"assets/npm.jquery-param.08b7e7c88d4b753951a6.js\" type=\"text/javascript\"></script><script src=\"assets/npm.jquery-resizable-dom.08b7e7c88d4b753951a6.js\" type=\"text/javascript\"></script><script src=\"assets/npm.jquery.08b7e7c88d4b753951a6.js\" type=\"text/javascript\"></script><script src=\"assets/npm.polyfill-array-includes.08b7e7c88d4b753951a6.js\" type=\"text/javascript\"></script><script src=\"assets/npm.process.08b7e7c88d4b753951a6.js\" type=\"text/javascript\"></script><script src=\"assets/npm.whatwg-fetch.08b7e7c88d4b753951a6.js\" type=\"text/javascript\"></script><script src=\"assets/app.08b7e7c88d4b753951a6.js\" type=\"text/javascript\"></script></body>\n",
       "<script type=\"text/javascript\">\n",
       "     \n",
       "    if(navigator.userAgent.indexOf('MSIE')!==-1){\n",
       "      var para = document.createElement(\"h1\");\n",
       "      var node = document.createTextNode(\"Your browser is not supported please upgrade!\");\n",
       "      para.appendChild(node);\n",
       "      document.body.appendChild(para);\n",
       "    }\n",
       "  </script>\n",
       "</html>"
      ]
     },
     "execution_count": 7,
     "metadata": {},
     "output_type": "execute_result"
    }
   ],
   "source": [
    "soup"
   ]
  },
  {
   "cell_type": "code",
   "execution_count": 25,
   "metadata": {},
   "outputs": [
    {
     "data": {
      "text/plain": [
       "<json.decoder.JSONDecoder at 0x7fbba2811b20>"
      ]
     },
     "execution_count": 25,
     "metadata": {},
     "output_type": "execute_result"
    }
   ],
   "source": []
  },
  {
   "cell_type": "code",
   "execution_count": null,
   "metadata": {},
   "outputs": [],
   "source": []
  }
 ],
 "metadata": {
  "kernelspec": {
   "display_name": "Python 3",
   "language": "python",
   "name": "python3"
  },
  "language_info": {
   "codemirror_mode": {
    "name": "ipython",
    "version": 3
   },
   "file_extension": ".py",
   "mimetype": "text/x-python",
   "name": "python",
   "nbconvert_exporter": "python",
   "pygments_lexer": "ipython3",
   "version": "3.8.5"
  }
 },
 "nbformat": 4,
 "nbformat_minor": 4
}
